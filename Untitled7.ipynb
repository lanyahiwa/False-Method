{
  "nbformat": 4,
  "nbformat_minor": 0,
  "metadata": {
    "colab": {
      "provenance": [],
      "authorship_tag": "ABX9TyPYIzzGwUjlhqC8XI2BKKWq",
      "include_colab_link": true
    },
    "kernelspec": {
      "name": "python3",
      "display_name": "Python 3"
    },
    "language_info": {
      "name": "python"
    }
  },
  "cells": [
    {
      "cell_type": "markdown",
      "metadata": {
        "id": "view-in-github",
        "colab_type": "text"
      },
      "source": [
        "<a href=\"https://colab.research.google.com/github/lanyahiwa/False-Method/blob/main/Untitled7.ipynb\" target=\"_parent\"><img src=\"https://colab.research.google.com/assets/colab-badge.svg\" alt=\"Open In Colab\"/></a>"
      ]
    },
    {
      "cell_type": "code",
      "execution_count": 2,
      "metadata": {
        "colab": {
          "base_uri": "https://localhost:8080/"
        },
        "id": "z4O2-8APXLLA",
        "outputId": "0708d093-51a9-416a-d507-0c163e6e493a"
      },
      "outputs": [
        {
          "output_type": "stream",
          "name": "stdout",
          "text": [
            "A: 3\n",
            "B : 4\n",
            " Error: 0.0008\n",
            "FALSE METHOD\n",
            "Iteration-1, x2 = 3.200000 and f(x2) = -0.160000\n",
            "Iteration-2, x2 = 3.230769 and f(x2) = -0.023669\n",
            "Iteration-3, x2 = 3.235294 and f(x2) = -0.003460\n",
            "Iteration-4, x2 = 3.235955 and f(x2) = -0.000505\n",
            "\n",
            " root is: 3.23595506\n"
          ]
        }
      ],
      "source": [
        "def f(x):\n",
        "    return x**2-2*x-4\n",
        "\n",
        "def falsePosition(x0,x1,e):\n",
        "    step = 1\n",
        "    print('FALSE METHOD')\n",
        "    condition = True\n",
        "    while condition:\n",
        "        x2 = x0 - (x1-x0) * f(x0)/( f(x1) - f(x0) )\n",
        "        print('Iteration-%d, x2 = %0.6f and f(x2) = %0.6f' % (step, x2, f(x2)))\n",
        "\n",
        "        if f(x0) * f(x2) < 0:\n",
        "            x1 = x2\n",
        "        else:\n",
        "            x0 = x2\n",
        "\n",
        "        step = step + 1\n",
        "        condition = abs(f(x2)) > e\n",
        "\n",
        "    print('\\n root is: %0.8f' % x2)\n",
        "\n",
        "x0 = input('A: ')\n",
        "x1 = input('B : ')\n",
        "e = input(' Error: ')\n",
        "\n",
        "x0 = float(x0)\n",
        "x1 = float(x1)\n",
        "e = float(e)\n",
        "\n",
        "if f(x0) * f(x1) > 0.0:\n",
        "    print('Given guess values do not bracket the root.')\n",
        "    print('Try Again with different guess values.')\n",
        "else:\n",
        "    falsePosition(x0,x1,e)"
      ]
    }
  ]
}